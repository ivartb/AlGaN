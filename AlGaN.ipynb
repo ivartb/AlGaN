{
 "cells": [
  {
   "cell_type": "code",
   "execution_count": 1,
   "metadata": {
    "scrolled": true
   },
   "outputs": [
    {
     "data": {
      "application/javascript": [
       "IPython.notebook.set_autosave_interval(100000)"
      ]
     },
     "metadata": {},
     "output_type": "display_data"
    },
    {
     "name": "stdout",
     "output_type": "stream",
     "text": [
      "Autosaving every 100 seconds\n"
     ]
    }
   ],
   "source": [
    "%autosave 100"
   ]
  },
  {
   "cell_type": "code",
   "execution_count": 80,
   "metadata": {
    "scrolled": true
   },
   "outputs": [],
   "source": [
    "import numpy as np\n",
    "import numpy.linalg as npl\n",
    "import math\n",
    "import numdifftools as nd\n",
    "import matplotlib.pyplot as plt"
   ]
  },
  {
   "cell_type": "code",
   "execution_count": 3,
   "metadata": {
    "collapsed": true
   },
   "outputs": [],
   "source": [
    "DELTA = 0.01\n",
    "P_g = dict([('AlCl', 0),('AlCl2', 0),('AlCl3', 0),('H2', 0),('HCl', 10000),('N2', 90000)])\n",
    "NAMES = ['AlCl', 'AlCl2', 'AlCl3', 'GaCl', 'GaCl2', 'GaCl3', 'NH3', 'H2', 'HCl', 'N2', 'Al', 'Ga', 'AlN', 'GaN']\n",
    "R = 8.314\n",
    "\n",
    "h   = dict(zip(NAMES, [-51032., -259000., -584100., -70553., -241238., -431573., -45940., 0., -92310., 0., 0., 0., -319000., -114000.]))\n",
    "fi1 = dict(zip(NAMES, [318.9948, 427.2137, 511.8114, 332.2718, 443.2976, 526.8113, 231.1183, 205.5368, 243.9878, 242.8156, 172.8289, 125.9597, 123.1132, 160.2647]))\n",
    "fi2 = dict(zip(NAMES, [36.94626, 56.56409, 81.15042, 37.11052, 57.745845, 82.03355, 20.52222, 29.50487, 23.15984, 21.47467, 50.51806, 26.03107, 44.98092, 52.86351]))\n",
    "fi3 = dict(zip(NAMES, [-0.001226431, -0.002961273, -0.004834879, -0.000746187, -0.002265112, -0.003486473, 0.000716251, 0.000168424, 0.001819985, 0.001748786, -0.00411847, 0.001178297, -0.00734504, -0.00799055]))\n",
    "fi4 = dict(zip(NAMES, [1.1881743, 1.893842, 2.752097, 1.1606512, 1.8755545, 2.6855923, 0.7677236, 0.86065612, 0.6147384, 0.5910039, 1.476107, 0.13976, 1.86107, 2.113389]))\n",
    "fi5 = dict(zip(NAMES, [5.638541, 12.40072, 13.40078, 4.891346, 3.66186, 8.278878, 244.6296, -14.95312, 51.16604, 81.08497, -458.1279, -0.5698425, 31.39626, 1.313428]))\n",
    "fi6 = dict(zip(NAMES, [-5.066135, -22.65441, -21.28001, -4.467591, -9.356338, -14.5678, -251.69, 78.18955, -36.89502, -103.6265, 2105.75, 0.04723008, -49.92139, -2.441129]))\n",
    "fi7 = dict(zip(NAMES, [5.219347, 21.29898, 16.92868, 5.506236, 15.88245, 12.8899, 146.6947, -82.78981, 9.174252, 71.30775, -4168.337, 7.212525, 81.22038, 1.945731]))\n",
    "mu  = dict(zip(NAMES, [62.4345, 97.8875, 133.3405, 105.173, 140.626, 176.080, 17.031, 2.016, 36.461, 28.0135, 26.9815, 69.723, 40.988, 83.730]))\n",
    "sigma = dict(zip(['AlCl', 'AlCl2', 'AlCl3', 'GaCl', 'GaCl2', 'GaCl3', 'NH3', 'H2', 'HCl', 'N2'], [3.58, 5.3, 5.13, 3.696, 4.293, 5.034, 3.0, 2.93, 2.737, 3.798]))\n",
    "eps   = dict(zip(['AlCl', 'AlCl2', 'AlCl3', 'GaCl', 'GaCl2', 'GaCl3', 'NH3', 'H2', 'HCl', 'N2'], [932., 825., 472., 348.2, 465., 548.24, 300., 34.1, 167.1, 71.4]))\n",
    "ro = dict(zip(['Al', 'Ga', 'AlN', 'GaN'], [2690, 5900, 3200, 6150]))"
   ]
  },
  {
   "cell_type": "code",
   "execution_count": 4,
   "metadata": {
    "collapsed": true
   },
   "outputs": [],
   "source": [
    "def Hi(T):\n",
    "    return T / math.pow(10, 4)\n",
    "\n",
    "def Fi_elem(elem, T):\n",
    "    return fi1[elem] + fi2[elem] * np.log(Hi(T)) + fi3[elem] / math.pow(Hi(T), 2) + fi4[elem] / Hi(T) + \\\n",
    "           fi5[elem] * Hi(T) + fi6[elem] * (Hi(T)**2) + fi7[elem] * (Hi(T)**3)                \n",
    "def G_elem(elem, T):\n",
    "    return h[elem] - Fi_elem(elem, T) * T"
   ]
  },
  {
   "cell_type": "code",
   "execution_count": 5,
   "metadata": {
    "collapsed": true
   },
   "outputs": [],
   "source": [
    "def K1(T):\n",
    "    return math.exp((2 * G_elem('AlCl', T) + G_elem('H2', T) - 2 * G_elem('HCl', T) - 2 * G_elem('Al', T)) / (R * T)) / (10**5)\n",
    "    \n",
    "def K2(T):\n",
    "    return math.exp((G_elem('AlCl2', T) + G_elem('H2', T) - 2 * G_elem('HCl', T) - G_elem('Al', T)) / (R * T))\n",
    "    \n",
    "def K3(T):\n",
    "    return math.exp((2 * G_elem('AlCl3', T) + 3 * G_elem('H2', T) - 6 * G_elem('HCl', T) - 2 * G_elem('Al', T)) / (R * T)) * (10**5)"
   ]
  },
  {
   "cell_type": "code",
   "execution_count": 6,
   "metadata": {
    "collapsed": true
   },
   "outputs": [],
   "source": [
    "def Sigma_elemN2(elem):\n",
    "    return (sigma[elem] + sigma['N2']) / 2\n",
    "\n",
    "def Eps_elemN2(elem):\n",
    "    return (eps[elem] * eps['N2'])**(1/2)\n",
    "\n",
    "def Mu_elemN2(elem):\n",
    "    return 2 * mu[elem] * mu['N2'] / (mu[elem] + mu['N2'])\n",
    "\n",
    "def Sigma1_1(x):\n",
    "    return 1.074 * (x ** (-0.1604))\n",
    "\n",
    "def D_elem(elem, T):\n",
    "    return 0.02628 * (T**(3/2)) / ((10**5) * Sigma_elemN2(elem) * Sigma1_1(T / Eps_elemN2(elem)) * (Mu_elemN2(elem)**(1/2)))"
   ]
  },
  {
   "cell_type": "code",
   "execution_count": 60,
   "metadata": {},
   "outputs": [],
   "source": [
    "def f0(x, T):\n",
    "    return (x[0]**2) - K1(T) * x[1] * (x[2]**2)\n",
    "\n",
    "def f1(x, T):\n",
    "    return (x[0]**2) - K2(T)  * x[1] * x[3]\n",
    "\n",
    "def f2(x, T):\n",
    "    return (x[0]**6) - K3(T)  * (x[1]**3) * (x[4]**2)\n",
    "\n",
    "def f3(x, T):\n",
    "    return x[0] + 2 * D_elem('H2', T) / D_elem('HCl', T) * x[1] - (10**4)\n",
    "\n",
    "def f4(x, T):\n",
    "    return x[0] + D_elem('AlCl', T) / D_elem('HCl', T) * x[2] + 2 * D_elem('AlCl2', T) / D_elem('HCl', T) * x[3] + \\\n",
    "           3 * D_elem('AlCl3', T) / D_elem('HCl', T) * x[4] - (10**4)\n",
    "\n",
    "def f(x, T):\n",
    "    return np.array([f0(x, T),f1(x, T),f2(x, T),f3(x, T),f4(x, T)])"
   ]
  },
  {
   "cell_type": "code",
   "execution_count": 103,
   "metadata": {},
   "outputs": [],
   "source": [
    "def newton(f, T, eps=1e-3, max_iter=int(1e9)):\n",
    "    x_ = np.array([1, 2, 3, 4, 5])\n",
    "    norm = 1\n",
    "    iters = 0\n",
    "    while norm > eps and iters < max_iter:\n",
    "        a = nd.Jacobian(f)\n",
    "        b = a(x_, T)\n",
    "        c = npl.inv(b)\n",
    "        x = x_ - c @ f(x_, T)\n",
    "        norm = npl.norm(x - x_)\n",
    "        x_ = x\n",
    "        iters += 1\n",
    "    \n",
    "#    if (iters >= max_iter):\n",
    "#        print('Превышено максимальное число итераций. Текущая норма:', norm)\n",
    "#    else:\n",
    "#        print('Итераций:', iters)\n",
    "    \n",
    "#    print('Проверка f(x, T) = 0 :', np.allclose(f(x, T), [0, 0, 0, 0, 0]))\n",
    "    return x"
   ]
  },
  {
   "cell_type": "code",
   "execution_count": 100,
   "metadata": {},
   "outputs": [
    {
     "name": "stdout",
     "output_type": "stream",
     "text": [
      "Итераций: 25\n",
      "Проверка f(x, T) = 0 : True\n",
      "-1.46960065977e-08\n",
      "-5.74370971132e-10\n",
      "-2.07584593002e-05\n",
      "-208.366686728\n"
     ]
    }
   ],
   "source": [
    "def G(elem, P_e, T):\n",
    "    return D_elem(elem, T) * (P_g[elem] - P_e[elem]) / (8314 * T * DELTA)\n",
    "\n",
    "def V_al(P_e, T):\n",
    "    return (G('AlCl', P_e, T) + G('AlCl2', P_e, T) + G('AlCl3', P_e, T)) * (mu['Al'] / ro['Al']) * (10**9)\n",
    "\n",
    "P_e = dict(zip(['HCl', 'H2', 'AlCl', 'AlCl2', 'AlCl3'], newton(f, 800)))\n",
    "print(G('AlCl', P_e, 800))\n",
    "print(G('AlCl2', P_e, 800))\n",
    "print(G('AlCl3', P_e, 800))\n",
    "print(V_al(P_e, 800))"
   ]
  },
  {
   "cell_type": "code",
   "execution_count": 102,
   "metadata": {},
   "outputs": [
    {
     "name": "stdout",
     "output_type": "stream",
     "text": [
      "Итераций: 46\n",
      "Проверка f(x, T) = 0 : True\n",
      "Итераций: 42\n",
      "Проверка f(x, T) = 0 : True\n",
      "Итераций: 37\n",
      "Проверка f(x, T) = 0 : True\n",
      "Итераций: 33\n",
      "Проверка f(x, T) = 0 : True\n",
      "Итераций: 29\n",
      "Проверка f(x, T) = 0 : True\n",
      "Итераций: 26\n",
      "Проверка f(x, T) = 0 : True\n",
      "Итераций: 24\n",
      "Проверка f(x, T) = 0 : True\n",
      "Итераций: 23\n",
      "Проверка f(x, T) = 0 : True\n",
      "Итераций: 23\n",
      "Проверка f(x, T) = 0 : True\n",
      "Итераций: 39\n",
      "Проверка f(x, T) = 0 : True\n"
     ]
    }
   ],
   "source": [
    "KELVIN = 273\n",
    "x = np.linspace(350 + KELVIN, 650 + KELVIN, 10)\n",
    "y = [dict(zip(['HCl', 'H2', 'AlCl', 'AlCl2', 'AlCl3'], newton(f, t))) for t in x]"
   ]
  },
  {
   "cell_type": "code",
   "execution_count": 104,
   "metadata": {},
   "outputs": [
    {
     "data": {
      "image/png": "[encoded data removed]",
      "text/plain": [
       "<matplotlib.figure.Figure at 0x1f3e7d35208>"
      ]
     },
     "metadata": {},
     "output_type": "display_data"
    }
   ],
   "source": [
    "y1 = [G('AlCl', dict(zip(['HCl', 'H2', 'AlCl', 'AlCl2', 'AlCl3'], newton(f, t))), t) for t in x]\n",
    "y2 = [G('AlCl2', dict(zip(['HCl', 'H2', 'AlCl', 'AlCl2', 'AlCl3'], newton(f, t))), t) for t in x]\n",
    "y3 = [G('AlCl3', dict(zip(['HCl', 'H2', 'AlCl', 'AlCl2', 'AlCl3'], newton(f, t))), t) for t in x]\n",
    "y4 = [V_al(dict(zip(['HCl', 'H2', 'AlCl', 'AlCl2', 'AlCl3'], newton(f, t))), t) for t in x]\n",
    "\n",
    "fig, ax = plt.subplots()\n",
    "ax.plot(np.divide(np.array([1 for i in x]), x), np.log(np.fabs(y1)), color=\"blue\")\n",
    "ax.plot(np.divide(np.array([1 for i in x]), x), np.log(np.fabs(y2)), color=\"green\")\n",
    "ax.plot(np.divide(np.array([1 for i in x]), x), np.log(np.fabs(y3)), color=\"yellow\")\n",
    "ax.plot(np.divide(np.array([1 for i in x]), x), np.log(np.fabs(y4)), color=\"red\")\n",
    "plt.show()"
   ]
  },
  {
   "cell_type": "code",
   "execution_count": 7,
   "metadata": {},
   "outputs": [
    {
     "name": "stdout",
     "output_type": "stream",
     "text": [
      "3.3823032102250726e-05\n",
      "0.0001794855492744165\n"
     ]
    }
   ],
   "source": [
    "print(K1(500))\n",
    "print(D_elem('AlCl', 600))"
   ]
  },
  {
   "cell_type": "code",
   "execution_count": 8,
   "metadata": {
    "collapsed": true
   },
   "outputs": [
    {
     "name": "stdout",
     "output_type": "stream",
     "text": [
      "{'AlCl': 0, 'AlCl2': 0, 'AlCl3': 0, 'H2': 0, 'HCl': 10000, 'N2': 90000}\n",
      "AlCl 0\n",
      "AlCl2 0\n",
      "AlCl3 0\n",
      "H2 0\n",
      "HCl 10000\n",
      "N2 90000\n"
     ]
    }
   ],
   "source": [
    "print(P_g)\n",
    "for key in P_g:\n",
    "    print(key, P_g[key])"
   ]
  },
  {
   "cell_type": "code",
   "execution_count": 9,
   "metadata": {},
   "outputs": [
    {
     "name": "stdout",
     "output_type": "stream",
     "text": [
      "10000\n"
     ]
    }
   ],
   "source": [
    "print(P_g['HCl'])"
   ]
  },
  {
   "cell_type": "code",
   "execution_count": 10,
   "metadata": {},
   "outputs": [
    {
     "name": "stdout",
     "output_type": "stream",
     "text": [
      "0\n",
      "('AlCl', 1) 0\n",
      "('AlCl', 2) 1000\n"
     ]
    }
   ],
   "source": [
    "d1 = dict([(('AlCl', 1), 0),(('AlCl', 2), 1000)])\n",
    "print(d1[('AlCl', 1)])\n",
    "for key in d1:\n",
    "    print(key, d1[key])"
   ]
  }
 ],
 "metadata": {
  "kernelspec": {
   "display_name": "Python 3",
   "language": "python",
   "name": "python3"
  },
  "language_info": {
   "codemirror_mode": {
    "name": "ipython",
    "version": 3
   },
   "file_extension": ".py",
   "mimetype": "text/x-python",
   "name": "python",
   "nbconvert_exporter": "python",
   "pygments_lexer": "ipython3",
   "version": "3.6.3"
  }
 },
 "nbformat": 4,
 "nbformat_minor": 2
}
